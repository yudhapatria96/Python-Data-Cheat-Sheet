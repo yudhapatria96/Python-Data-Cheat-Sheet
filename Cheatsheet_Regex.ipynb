{
  "nbformat": 4,
  "nbformat_minor": 0,
  "metadata": {
    "colab": {
      "name": "Cheatsheet Regex.ipynb",
      "provenance": [],
      "toc_visible": true
    },
    "kernelspec": {
      "name": "python3",
      "display_name": "Python 3"
    },
    "language_info": {
      "name": "python"
    }
  },
  "cells": [
    {
      "cell_type": "markdown",
      "metadata": {
        "id": "fpoYQ9BjfBw7"
      },
      "source": [
        "# Basic Characters\n",
        "\n",
        "Expression =====================  Explanations\n",
        "\n",
        "^   =============   Matches the expression to its right, at the start of a    string before it experiences a line break\n",
        "\n",
        "$   =============   Matches the expression to its left, at the end of a string before it experiences a line break\n",
        "\n",
        ".  =============    Matches any character except newline\n",
        "\n",
        "a  =============    Matches exactly one character a\n",
        "\n",
        "xy =============    Matches the string xy\n",
        "\n",
        "a|b =============   Matches expression a or b. If a is matched first, b is left untried."
      ]
    },
    {
      "cell_type": "code",
      "metadata": {
        "colab": {
          "base_uri": "https://localhost:8080/"
        },
        "id": "icsBQDIUgTBw",
        "outputId": "d2d3feca-fb2e-48d3-9ff9-feab8a7cb161"
      },
      "source": [
        "import re\n",
        "  \n",
        "print(re.search(r\"^x\",\"xenon\"))\n",
        "print(re.search(r\"s$\",\"geeks\"))"
      ],
      "execution_count": null,
      "outputs": [
        {
          "output_type": "stream",
          "text": [
            "<re.Match object; span=(0, 1), match='x'>\n",
            "<re.Match object; span=(4, 5), match='s'>\n"
          ],
          "name": "stdout"
        }
      ]
    },
    {
      "cell_type": "markdown",
      "metadata": {
        "id": "TIo1XPMFiqK4"
      },
      "source": [
        "Penjelasan\n",
        "\n",
        "First import the regex module with the command import re\n",
        "\n",
        "Then, in the first example, we are searching for “^x” in the word “xenon” using regex. ^ this character matches the expression to its right, at the start of a string. So, ^x will search for character x in the beginning of the string. Since xenon starts with x, it will find the match and will return the match(‘x’) and its position(0,1)\n",
        "\n",
        "Similarly, in the second example s$ will search for the character s at the end of the string, now since geeks end with s, so it will find the match and will return the match(‘s’) and its position(4,5).\n",
        "\n"
      ]
    },
    {
      "cell_type": "markdown",
      "metadata": {
        "id": "w8ShyKAzenQt"
      },
      "source": [
        "# Quantifiers\n",
        "\n",
        "Expressions\t                       Explanations\n",
        "\n",
        "(+) ============= Matches the expression to its left 1 or more times.\n",
        "\n",
        "(*) ============= Matches the expression to its left 0 or more times.\n",
        "\n",
        "(?) ============= Matches the expression to its left 0 or 1 times\n",
        "\n",
        "{p} ============= Matches the expression to its left p times, and not less.\n",
        "\n",
        "{p, q} ========== Matches the expression to its left p to q times, and not less.\n",
        "\n",
        "{p, } =========== Matches the expression to its left p or more times.\n",
        "\n",
        "{ , q} ========== Matches the expression to its left up to q times\n",
        "\n"
      ]
    },
    {
      "cell_type": "code",
      "metadata": {
        "colab": {
          "base_uri": "https://localhost:8080/"
        },
        "id": "qM-aseCBeWiG",
        "outputId": "333523a1-1a9b-4439-fb5d-81b0ef6dd8eb"
      },
      "source": [
        "import re\n",
        "  \n",
        "print(re.search(r\"9+\",\"289908\"))\n",
        "print(re.search(r\"\\d{3}\",\"hello1234\"))"
      ],
      "execution_count": null,
      "outputs": [
        {
          "output_type": "stream",
          "text": [
            "<re.Match object; span=(2, 4), match='99'>\n",
            "<re.Match object; span=(0, 3), match='123'>\n"
          ],
          "name": "stdout"
        }
      ]
    },
    {
      "cell_type": "markdown",
      "metadata": {
        "id": "dIS2QJhQis2w"
      },
      "source": [
        "Penjelasan\n",
        "\n",
        "Explanation:\n",
        "\n",
        "In the first example, 9+ will search for the number 9 one or more times. Since 289908 contains 9 two times, the regex will match it and will print the match(’99’) and its position(2,4)\n",
        "\n",
        "\n",
        "\n",
        "In the second example, \\d{3} will search for digits exactly 3 times. Since hello1234 have digits, it will match exactly 3 digits which will be encountered first that are 123 and not 4, because {3} will match for exactly 3 digits. So it will print the match(‘123’) and its position(5,8)\n",
        "\n"
      ]
    },
    {
      "cell_type": "markdown",
      "metadata": {
        "id": "cP2jREQlgdS6"
      },
      "source": [
        "#Character Classes\n",
        "\n",
        "Expressions\t ============= Explanations\n",
        "\n",
        "\\w   ============ ============== Matches alphanumeric characters, that is a-z, A-Z, 0-9, and underscore(_)\n",
        "\n",
        "\\W  ============= ============= Matches non-alphanumeric characters, that is except a-z, A-Z, 0-9 and _\n",
        "\n",
        "\\d  ============= ============= Matches digits, from 0-9.\n",
        "\n",
        "\\D  ============= ============= Matches any non-digits.\n",
        "\n",
        "\\s  ============= ============= Matches whitespace characters, which also include the \\t, \\n, \\r, and space characters.\n",
        "\n",
        "\\S  ============= ============= Matches non-whitespace characters.\n",
        "\n",
        "\\A  ============= ============= Matches the expression to its right at the absolute start of a string whether in single or multi-line mode.\n",
        "\n",
        "\\Z  ============= ============= Matches the expression to its left at the absolute end of a string whether in single or multi-line mode.\n",
        "\n",
        "\\n  ============= ============= Matches a newline character\n",
        "\n",
        "\\t  ============= ============= Matches tab character\n",
        "\n",
        "\\b  ============= ============= Matches the word boundary (or empty string) at the start and end of a word.\n",
        "\n",
        "\\B  ============= ============= Matches where \\b does not, that is, non-word boundary"
      ]
    },
    {
      "cell_type": "code",
      "metadata": {
        "colab": {
          "base_uri": "https://localhost:8080/"
        },
        "id": "ASOgxoreg5rE",
        "outputId": "d15059d9-4246-43f8-96d7-6eccc213d420"
      },
      "source": [
        "import re\n",
        "  \n",
        "print(re.search(r\"\\s\",\"xenon is a gas\"))\n",
        "print(re.search(r\"\\D+\\d*\",\"123geeks123\"))"
      ],
      "execution_count": null,
      "outputs": [
        {
          "output_type": "stream",
          "text": [
            "<re.Match object; span=(5, 6), match=' '>\n",
            "<re.Match object; span=(3, 11), match='geeks123'>\n"
          ],
          "name": "stdout"
        }
      ]
    },
    {
      "cell_type": "markdown",
      "metadata": {
        "id": "7Q8XXfT_iw5c"
      },
      "source": [
        "Penjelasan\n",
        "\n",
        "In the first example, \\s will search for the blank space and whenever it encounters the first blank space it will print out that match. Since xenon is a gas that contains blank spaces, it will encounter the first blank space and print out that match(‘ ‘) and its position(5,6)\n",
        "\n",
        "In the second example, \\D+\\d* will search for one or more non-digits characters followed by 0 or more digits. In our case, geeks123 best fits the description as it contains 1 or more non-digits characters(geeks) followed by 0 or more digit characters(123). So it will print the match(‘geeks123’) and its position(3,11)."
      ]
    },
    {
      "cell_type": "markdown",
      "metadata": {
        "id": "3_uH7WN2hZ_I"
      },
      "source": [
        "#Sets\n",
        "\n",
        "Expressions ============ ==============\tExplanations\n",
        "\n",
        "[abc] ============ ============== Matches either a, b, or c. It does not match abc.\n",
        "\n",
        "[a-z] ============ ============== Matches any alphabet from a to z.\n",
        "\n",
        "[A-Z] ============ ============== Matches any alphabets in capital from A to Z\n",
        "\n",
        "[a\\-p] ============ ============= Matches a, -, or p. It matches – because \\ escapes it.\n",
        "\n",
        "[-z] ============ ============== Matches – or z\n",
        "\n",
        "[a-z0-9] ============ ============== Matches characters from a to z or from 0 to 9.\n",
        "\n",
        "[(+*)] ============ ============== Special characters become literal inside a set, so this matches (, +, *, or )\n",
        "\n",
        "[^ab5] ============ ============== Adding ^ excludes any character in the set. Here, it matches characters that are not a, b, or 5.\n",
        "\n",
        "\\[a\\] ============ ============== Matches [a] because both parentheses [ ] are escaped "
      ]
    },
    {
      "cell_type": "code",
      "metadata": {
        "id": "2Iv9wmX8hvBQ"
      },
      "source": [
        "import re\n",
        "  \n",
        "print(re.search(r\"[^abc]\",\"abcde\"))\n",
        "print(re.search(r\"[a-p]\",\"xenon\"))"
      ],
      "execution_count": null,
      "outputs": []
    },
    {
      "cell_type": "markdown",
      "metadata": {
        "id": "W2v4LNXWi0Ae"
      },
      "source": [
        "Explanation:\n",
        "\n",
        "In the first example, [^abc] will search for anything except a, b and c, so regex will match the first character which is not a or b or c and will print out that match. Since abcde contains d as its first match that is neither a nor b nor c, it will print out that match. So match would be (‘d’) and its position would be (3,4)\n",
        "\n",
        "In the second example, [a-p] will search for the character between a to p. In xenon the first word between a-p is e it will print out that search. So match would be (‘e’) and its position would be (1,2)"
      ]
    },
    {
      "cell_type": "markdown",
      "metadata": {
        "id": "jjaHthDUhyuc"
      },
      "source": [
        "#Groups\n",
        "\n",
        "Expressions\t============ ============== Explanations\n",
        "\n",
        "( ) ============ ============== Matches the expression inside the parentheses and groups it which we can capture as required\n",
        "\n",
        "(?#…) ============ ============== Read a comment\n",
        "\n",
        "(?PAB) ============ ============== Matches the expression AB, which can be retrieved with the group name.\n",
        "\n",
        "(?:A) ============ ============== Matches the expression as represented by A, but cannot be retrieved afterwards.\n",
        "\n",
        "(?P=group) ============ ============== Matches the expression matched by an earlier group named “group”\n"
      ]
    },
    {
      "cell_type": "code",
      "metadata": {
        "id": "G442Yjash_bk"
      },
      "source": [
        "import re\n",
        "  \n",
        "example = (re.search(r\"(?:AB)\",\"ACABC\"))\n",
        "print(example)\n",
        "print(example.groups())\n",
        "  \n",
        "result = re.search(r\"(\\w*), (\\w*)\",\"geeks, best\")\n",
        "print(result.groups())"
      ],
      "execution_count": null,
      "outputs": []
    },
    {
      "cell_type": "markdown",
      "metadata": {
        "id": "65HNxXGPi3V2"
      },
      "source": [
        "Explanation:\n",
        "\n",
        "In the first example, (?:AB) will search and matches the expression AB and will print out the match and its position. Since ACABC contains AB, it will print the match(‘AB’) and its position(2,4) but as stated, this cannot be retrieved afterward. So, if we try to print the group of the output, it will show an empty bracket.\n",
        "\n",
        "In the second example, we have captured two groups, one group which has 0 or more alphanumeric characters followed by comma and space and then followed by another group which has again 0 or more alphanumeric characters. In geeks, best geeks and best are captured as the first and second groups. So, when we print out these groups we will have (‘geeks’, ‘best) as the groups captured. "
      ]
    },
    {
      "cell_type": "markdown",
      "metadata": {
        "id": "PV7D3xtkiCJS"
      },
      "source": [
        "# Assertions\n",
        "\n",
        "Expression ============ ============== Explanation\n",
        "\n",
        "A(?=B) ============ ============== This matches the expression A only if it is followed by B. (Positive look ahead assertion)\n",
        "\n",
        "A(?!B) ============ ============== This matches the expression A only if it is not followed by B. (Negative look ahead assertion)\n",
        "\n",
        "(?<=B) ============ ============== A This matches the expression A only if B is immediate to its left.  (Positive look behind assertion)\n",
        "\n",
        "(?<!B) ============ ============== A  This matches the expression A only if B is not immediately to its left. (Negative look behind assertion)\n",
        "\n",
        "(?()|) ============ ============== If else conditional"
      ]
    },
    {
      "cell_type": "code",
      "metadata": {
        "id": "YKZ2MQLQiDvi"
      },
      "source": [
        "\n",
        "import re\n",
        "  \n",
        "print(re.search(r\"z(?=a)\", \"pizza\"))\n",
        "print(re.search(r\"z(?!a)\", \"pizza\"))"
      ],
      "execution_count": null,
      "outputs": []
    },
    {
      "cell_type": "markdown",
      "metadata": {
        "id": "EKEb6QTci5Pg"
      },
      "source": [
        "Explanation:\n",
        "\n",
        "In the first example, z(?=a) will search for the character z which is followed by the character a. Since in pizza, we have a character z which is immediately followed by the character a (pizza), so there will be a match. Regex will print the match(‘z’) which is followed by a with its position(3,4)\n",
        "\n",
        "In the second example, z(?!a) will search for the character z which is not followed by the character a. Since in pizza, we have a character z which is not followed by a but followed by z (pizza), so there will be a match. Regex will print the match(‘z’) not followed by a with its position (2,3)"
      ]
    },
    {
      "cell_type": "markdown",
      "metadata": {
        "id": "UyYvw0yoiRmF"
      },
      "source": [
        "#Flags\n",
        "\n",
        "Expression ============ ============== Explanation\n",
        "\n",
        "a ============ ============== Matches ASCII only\n",
        "\n",
        "i ============ ============== Ignore case\n",
        "\n",
        "L ============ ============== Locale character classes\n",
        "\n",
        "m ============ ============== ^ and $ match start and end of the line (Multi-line)\n",
        "\n",
        "s ============ ============== Matches everything including newline as well\n",
        "\n",
        "u ============ ============== Matches Unicode character classes\n",
        "\n",
        "x ============ ============== Allow spaces and comments (Verbose)"
      ]
    },
    {
      "cell_type": "code",
      "metadata": {
        "id": "jdQ5dFOqihqS"
      },
      "source": [
        "import re\n",
        "  \n",
        "exp = \"\"\"hello there\n",
        "I am from\n",
        "Geeks for Geeks\"\"\"\n",
        "  \n",
        "print(re.search(r\"and\", \"Sun And Moon\", flags=re.IGNORECASE)) \n",
        "print(re.findall(r\"^\\w\", exp, flags = re.MULTILINE))"
      ],
      "execution_count": null,
      "outputs": []
    },
    {
      "cell_type": "markdown",
      "metadata": {
        "id": "BW974eGEi7Y2"
      },
      "source": [
        "Explanation:\n",
        "\n",
        "In the first example, the IGNORECASE flag will search for the word and irrespective of its case (whether uppercase or lowercase), So it ignores the case and matches And in the expression. So it will print the match(‘And’) and its position(4,7)\n",
        "\n",
        "In the second example, the MULTILINE flag will search in each and every line and will match when the line is starting an alphanumeric character. Since in Multi-line hello there I am from Geeks for Geeks, every line is starting with an alphanumeric character, so it will match every line and will print the match in an array ([‘h’, ‘I’, ‘G’])."
      ]
    }
  ]
}