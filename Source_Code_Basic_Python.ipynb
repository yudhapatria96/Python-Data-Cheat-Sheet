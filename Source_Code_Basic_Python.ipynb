{
  "nbformat": 4,
  "nbformat_minor": 0,
  "metadata": {
    "colab": {
      "name": "Source Code Basic Python.ipynb",
      "provenance": [],
      "toc_visible": true
    },
    "kernelspec": {
      "name": "python3",
      "display_name": "Python 3"
    },
    "language_info": {
      "name": "python"
    }
  },
  "cells": [
    {
      "cell_type": "markdown",
      "metadata": {
        "id": "Bksq0aS8mm-E"
      },
      "source": [
        "# Semua Library yang dibutuhkan\n",
        "\n"
      ]
    },
    {
      "cell_type": "code",
      "metadata": {
        "id": "YFkz-230mmyE"
      },
      "source": [
        "import pandas as pd\n",
        "import matplotlib.pyplot as plt\n",
        "# Import Drive API and authenticate.\n",
        "from google.colab import drive\n"
      ],
      "execution_count": null,
      "outputs": []
    },
    {
      "cell_type": "markdown",
      "metadata": {
        "id": "VfUIPsL8oC8a"
      },
      "source": [
        "##Pandas\n",
        "\n",
        "Pandas (Python for Data Analysis) adalah library Python yang fokus untuk proses analisis data seperti manipulasi data, persiapan data, dan pembersihan data.\n",
        "\n",
        "\n",
        "•\tread_csv() digunakan untuk membaca file csv\n",
        "\n",
        "•\tstr.match() digunakan untuk mencocokan dengan karakter tertentu\n",
        "\n",
        "•\tdrop() digunakan untuk menghapus\n",
        "\n",
        "•\tcount() digunakan untuk mengitung masing-masing variable\n",
        "\n",
        "•\tdrop_duplicates() digunakan untuk menghapus data duplicate rows\n",
        "\n",
        "•\tfillna() digunakan untuk mengisi dengan nilai tertentu\n",
        "\n",
        "•\tquantile() digunakan untuk melihat quantile ke tertentu\n",
        "\n",
        "•\tmask() menganti nilai tertentu jika kondisi memenuhi\n",
        "\n",
        "•\tastype() merunubah tipe data\n",
        "\n",
        "•\tvalue_counts() digunakan untuk mengitung unik dari kolom\n",
        "\n",
        "•\tsort_values() digunakan untuk sort values\n",
        "\n",
        "•\tisnull() digunakan untuk mendeteksi missing values\n",
        "\n",
        "•\tdropna() digunakan untuk menghapus missing values\n",
        "\n",
        "•\treplace() digunakan untuk mengganti nilai\n",
        "\n"
      ]
    },
    {
      "cell_type": "markdown",
      "metadata": {
        "id": "2BiCGxxRpxz5"
      },
      "source": [
        "## Matplotlib\n",
        "\n",
        "Matplotlib adalah library Python yang fokus pada visualisasi data seperti membuat plot grafik. Matplotlib dapat digunakan dalam skrip Python, Python dan IPython shell, server aplikasi web, dan beberapa toolkit graphical user interface (GUI) lainnya.\n",
        "\n",
        "*   figure() digunakan untuk membuat figure gambar baru\n",
        "\n",
        "\n",
        "\n"
      ]
    },
    {
      "cell_type": "markdown",
      "metadata": {
        "id": "mzHozXoTp410"
      },
      "source": [
        "## Seaborn\n",
        "\n",
        "Seaborn membangun di atas Matplotlib dan memperkenalkan tipe plot tambahan. Ini juga membuat plot Matplotlib tradisional Anda terlihat sedikit lebih cantik.\n",
        "\n",
        "*   box_plot() digunakan untuk membuat box plot\n",
        "\n",
        "\n"
      ]
    },
    {
      "cell_type": "markdown",
      "metadata": {
        "id": "qTqCwPcBtB6b"
      },
      "source": [
        "## Penjelasan Library\n",
        "\n",
        "1. Pandas, di gunakan untuk melakukan pemrosesan analisis data\n",
        "2. Matplotlib, di gunakan sebagai dasar untuk melakukan visualisasi data\n",
        "3. Seaborn, di gunakan di atas matplotlib untuk melakukan data visualisasi yang lebih menarik\n",
        "4. Scikit - Learn, digunakan untuk mempersiapkan data sebelum dilakukan permodelan\n",
        "5. kmodes, digunakan untuk melakukan permodelan menggunakan algoritma K-Modes dan K-Prototypes.\n",
        "6. Pickle, digunakan untuk melakukan penyimpanan dari model yang akan di buat."
      ]
    },
    {
      "cell_type": "markdown",
      "metadata": {
        "id": "oKX96H9PFJpl"
      },
      "source": [
        ""
      ]
    },
    {
      "cell_type": "markdown",
      "metadata": {
        "id": "Dknv-UaGFLWK"
      },
      "source": [
        "# Fungsi Rata-Rata"
      ]
    },
    {
      "cell_type": "code",
      "metadata": {
        "id": "ATfWXEpZFNYe"
      },
      "source": [
        "nilai_akhir  = [90, 50, 65, 40, 70, 76, 84, 77, 100, 74]\n",
        "\n",
        "def mencari_rata_rata (nilai):\n",
        "  jumlah = 0 \n",
        "  for item in nilai:\n",
        "      jumlah += item\n",
        "  hasil_rata_rata = jumlah / len(nilai) #len fungsinya untuk mencari panjang data\n",
        "  return hasil_rata_rata\n",
        "\n",
        "\n",
        "\n"
      ],
      "execution_count": null,
      "outputs": []
    },
    {
      "cell_type": "markdown",
      "metadata": {
        "id": "pu4Qw4RUPY1Z"
      },
      "source": [
        "#Standar Deviasi\n",
        "\n",
        "https://id.wikipedia.org/wiki/Simpangan_baku\n",
        "\n",
        "Dalam statistika dan probabilitas, simpangan baku atau deviasi standar adalah ukuran sebaran statistik yang paling lazim. Singkatnya, ia mengukur bagaimana nilai-nilai data tersebar. Bisa juga didefinisikan sebagai, rata-rata jarak penyimpangan titik-titik data diukur dari nilai rata-rata data tersebut.\n",
        "\n",
        "![image.png](data:image/png;base64,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)"
      ]
    },
    {
      "cell_type": "code",
      "metadata": {
        "colab": {
          "base_uri": "https://localhost:8080/"
        },
        "id": "6H3MX0vGRRqc",
        "outputId": "4b15c510-f77b-468d-bb15-239e8f0eaaf0"
      },
      "source": [
        "def hitung_standar_deviasi(datas):\n",
        "  rata_rata_data = mencari_rata_rata(datas)\n",
        "  varian = 0\n",
        "  for data in datas:\n",
        "    varian += (data - rata_rata_data) ** 2\n",
        "  varian /= len(datas)\n",
        "  standar_deviasi = varian ** (1/2)\n",
        "  return standar_deviasi\n",
        "\n",
        "print(hitung_standar_deviasi(nilai_akhir))"
      ],
      "execution_count": null,
      "outputs": [
        {
          "output_type": "stream",
          "text": [
            "16.8949696655543\n"
          ],
          "name": "stdout"
        }
      ]
    },
    {
      "cell_type": "markdown",
      "metadata": {
        "id": "sflLGLyBwM7R"
      },
      "source": [
        "#Next"
      ]
    },
    {
      "cell_type": "code",
      "metadata": {
        "colab": {
          "base_uri": "https://localhost:8080/"
        },
        "id": "ET_xGVZXwOhV",
        "outputId": "61232926-eda2-4a88-ed3f-dbd519d33d8e"
      },
      "source": [
        "# Dua buah data yang tersimpan dalam tipe list\n",
        "data1 = [70, 70, 70, 100, 100, 100, 120, 120, 150, 150]\n",
        "data2 = [50, 60, 60, 50, 70, 70, 100, 80, 100, 90]\n",
        "# Fungsi rata-rata data\n",
        "def hitung_rata_rata(data):\n",
        "    jumlah = 0\n",
        "    for item in data:\n",
        "        jumlah += item\n",
        "    rata_rata = jumlah/len(data)\n",
        "    return rata_rata\n",
        "# Definisikan fungsi hitung_standar_deviasi\n",
        "def hitung_standar_deviasi(data):\n",
        "    rata_rata_data = hitung_rata_rata(data)\n",
        "    varians = 0\n",
        "    for item in data:\n",
        "        varians += (item - rata_rata_data) ** 2\n",
        "    varians /= len(data)\n",
        "    standar_deviasi = varians ** (1/2)\n",
        "    return standar_deviasi\n",
        "# Hitung nilai standar deviasi dari kedua data yang dimiliki\n",
        "print('Standar deviasi data1:')\n",
        "print(hitung_standar_deviasi(data1))\n",
        "print('Standar deviasi data2:')\n",
        "print(hitung_standar_deviasi(data2))"
      ],
      "execution_count": null,
      "outputs": [
        {
          "output_type": "stream",
          "text": [
            "Standar deviasi data1:\n",
            "28.722813232690143\n",
            "Standar deviasi data2:\n",
            "17.916472867168917\n"
          ],
          "name": "stdout"
        }
      ]
    },
    {
      "cell_type": "code",
      "metadata": {
        "colab": {
          "base_uri": "https://localhost:8080/"
        },
        "id": "Ewv9QNJuzg1Z",
        "outputId": "d3355cc5-ede0-4701-bade-397f6ffba7f9"
      },
      "source": [
        "# Data properti\n",
        "tabel_properti = {\n",
        "'luas_tanah': [70, 70, 70, 100, 100, 100, 120, 120, 150, 150],\n",
        "'luas_bangunan': [50, 60, 60, 50, 70, 70, 100, 80, 100, 90],\n",
        "'jarak': [15, 30, 55, 30, 25, 50, 20, 50, 50, 15],\n",
        "'harga': [500, 400, 300, 700, 1000, 650, 2000, 1200, 1800, 3000]\n",
        "}\n",
        "# Fungsi rata-rata data\n",
        "def hitung_rata_rata(data):\n",
        "    jumlah = 0\n",
        "    for item in data:\n",
        "        jumlah += item\n",
        "    rata_rata = jumlah/len(data)\n",
        "    return rata_rata\n",
        "# Fungsi hitung_standar_deviasi\n",
        "def hitung_standar_deviasi(data):\n",
        "    rata_rata_data = hitung_rata_rata(data)\n",
        "    varians = 0\n",
        "    for item in data:\n",
        "        varians += (item - rata_rata_data) ** 2\n",
        "        varians /= len(data)\n",
        "    standar_deviasi = varians ** (1/2)\n",
        "    return standar_deviasi\n",
        "# Definisikan fungsi untuk menghitung rata-rata dan standar deviasi\n",
        "# setiap kolom pada tabel_properti yang diberikan oleh key dict.\n",
        "def deskripsi_properti(tabel):\n",
        "    for key in tabel.keys():\n",
        "\t\t    print('Rata-rata ' + key + ':')\n",
        "\t\t    print(hitung_rata_rata(tabel[key]))\n",
        "\t\t    print('Standar deviasi ' + key + ':')\n",
        "\t\t    print(hitung_standar_deviasi(tabel[key]))\n",
        "\t\t    print('')\n",
        "\n",
        "\n",
        "# Panggil fungsi deskripsi_properti untuk menghitung rata-rata \n",
        "# dan standar deviasi setiap kolom pada tabel_properti\n",
        "deskripsi_properti(tabel_properti)"
      ],
      "execution_count": null,
      "outputs": [
        {
          "output_type": "stream",
          "text": [
            "Rata-rata luas_tanah:\n",
            "105.0\n",
            "Standar deviasi luas_tanah:\n",
            "14.93311056335886\n",
            "\n",
            "Rata-rata luas_bangunan:\n",
            "73.0\n",
            "Standar deviasi luas_bangunan:\n",
            "6.025948374480153\n",
            "\n",
            "Rata-rata jarak:\n",
            "34.0\n",
            "Standar deviasi jarak:\n",
            "6.24005184770928\n",
            "\n",
            "Rata-rata harga:\n",
            "1155.0\n",
            "Standar deviasi harga:\n",
            "587.0594351517378\n",
            "\n"
          ],
          "name": "stdout"
        }
      ]
    },
    {
      "cell_type": "markdown",
      "metadata": {
        "id": "othqsKg8wuSP"
      },
      "source": [
        "#Membulatkan Bilangan"
      ]
    },
    {
      "cell_type": "code",
      "metadata": {
        "colab": {
          "base_uri": "https://localhost:8080/"
        },
        "id": "k6yQp4h7wvm1",
        "outputId": "021ca8eb-f5fb-49c0-910a-e90f37e0f9e7"
      },
      "source": [
        "import math\n",
        "\n",
        "a = 3.3\n",
        "b = 4.7\n",
        "\n",
        "a_ceil = math.ceil(a)\n",
        "b_ceil = math.ceil(b)\n",
        "\n",
        "print(a_ceil)\n",
        "print(b_ceil)\n",
        "\n",
        "a_floor = math.floor(a)\n",
        "b_floor = math.floor(b)\n",
        "\n",
        "print(a_floor)\n",
        "print(b_floor)"
      ],
      "execution_count": null,
      "outputs": [
        {
          "output_type": "stream",
          "text": [
            "4\n",
            "5\n",
            "3\n",
            "4\n"
          ],
          "name": "stdout"
        }
      ]
    },
    {
      "cell_type": "markdown",
      "metadata": {
        "id": "jARFjCU8ZsSp"
      },
      "source": [
        "# Mencari hasil Log"
      ]
    },
    {
      "cell_type": "code",
      "metadata": {
        "id": "-osmhVZJZwqr",
        "colab": {
          "base_uri": "https://localhost:8080/"
        },
        "outputId": "20f0e9ed-c759-4fdd-b561-c336c2fe02a3"
      },
      "source": [
        "import math\n",
        "\n",
        "#logaritma dari 12 dengan basis 4\n",
        "\n",
        "y = math.log(12, 4)\n",
        "\n",
        "print(y)\n",
        "\n",
        "z = math.log(1000, 10)\n",
        "print(z)"
      ],
      "execution_count": null,
      "outputs": [
        {
          "output_type": "stream",
          "text": [
            "1.7924812503605783\n",
            "2.9999999999999996\n"
          ],
          "name": "stdout"
        }
      ]
    },
    {
      "cell_type": "markdown",
      "metadata": {
        "id": "7bLIYvi1jYdq"
      },
      "source": [
        "# Mencari Factorial"
      ]
    },
    {
      "cell_type": "code",
      "metadata": {
        "colab": {
          "base_uri": "https://localhost:8080/"
        },
        "id": "aBI24jsrja2b",
        "outputId": "9ef17b35-a74d-4e47-e22d-5dbbc44a20fb"
      },
      "source": [
        "import math\n",
        "\n",
        "z_faktorial = math.factorial(3)\n",
        "\n",
        "# faktorial 3 = 3 * 2 * 1\n",
        "\n",
        "a_faktorial = math.factorial(10)\n",
        "\n",
        "# faktorial 10 = 10 * 9 * 8 * 7 * 6 * .... * 1\n",
        "\n",
        "print(a_faktorial)"
      ],
      "execution_count": null,
      "outputs": [
        {
          "output_type": "stream",
          "text": [
            "3628800\n"
          ],
          "name": "stdout"
        }
      ]
    },
    {
      "cell_type": "markdown",
      "metadata": {
        "id": "SmgywyFEk7yo"
      },
      "source": [
        "# Mencari Akar Kuadrat"
      ]
    },
    {
      "cell_type": "code",
      "metadata": {
        "colab": {
          "base_uri": "https://localhost:8080/"
        },
        "id": "NFEU3ukBk7EY",
        "outputId": "4f0595de-51b0-4c18-8b6e-e097ce47ab4b"
      },
      "source": [
        "import math\n",
        "\n",
        "y_akar_kuadrat = math.sqrt(100)\n",
        "\n",
        "print(y_akar_kuadrat)"
      ],
      "execution_count": null,
      "outputs": [
        {
          "output_type": "stream",
          "text": [
            "10.0\n"
          ],
          "name": "stdout"
        }
      ]
    },
    {
      "cell_type": "markdown",
      "metadata": {
        "id": "w2sNRgfSz_7n"
      },
      "source": [
        "# Summary dari list"
      ]
    },
    {
      "cell_type": "code",
      "metadata": {
        "colab": {
          "base_uri": "https://localhost:8080/"
        },
        "id": "Hvi67Z0L0Cmr",
        "outputId": "3ee48023-0955-4901-cbca-32c1d82db2dc"
      },
      "source": [
        "import math\n",
        "\n",
        "nilai = [1,5,7,1,2,-5,-4,3,0,-2]\n",
        "total =math.fsum(nilai)\n",
        "print(total)"
      ],
      "execution_count": null,
      "outputs": [
        {
          "output_type": "stream",
          "text": [
            "8.0\n"
          ],
          "name": "stdout"
        }
      ]
    }
  ]
}