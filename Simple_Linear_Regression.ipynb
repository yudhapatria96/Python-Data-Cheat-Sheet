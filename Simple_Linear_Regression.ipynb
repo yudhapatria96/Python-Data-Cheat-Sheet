{
  "nbformat": 4,
  "nbformat_minor": 0,
  "metadata": {
    "kernelspec": {
      "display_name": "Python 3",
      "language": "python",
      "name": "python3"
    },
    "language_info": {
      "codemirror_mode": {
        "name": "ipython",
        "version": 3
      },
      "file_extension": ".py",
      "mimetype": "text/x-python",
      "name": "python",
      "nbconvert_exporter": "python",
      "pygments_lexer": "ipython3",
      "version": "3.7.3"
    },
    "colab": {
      "name": "Simple Linear Regression.ipynb",
      "provenance": []
    }
  },
  "cells": [
    {
      "cell_type": "markdown",
      "metadata": {
        "id": "P8pMx5gM07cC"
      },
      "source": [
        "# Simple Linear Regression\n",
        "- Pada tutorial kali ini, kita akan menggunakan sebuah dataset yang memiliki 2 features, yaitu horsepower dan price dari sebuah mobil\n",
        "- Tujuan dari tutorial ini adalah memprediksi harga mobil jika mobil tersebut mempunyai horsepower sebesar 100, 150, dan 200\n",
        "- Hipotesis awal : mobil dengan horsepower lebih tinggi harganya lebih mahal jika dibandingkan dengan yang horsepowernya lebih rendah.\n",
        "\n",
        "\n"
      ]
    },
    {
      "cell_type": "markdown",
      "metadata": {
        "id": "mDEwxMyd07cV"
      },
      "source": [
        "### Load library"
      ]
    },
    {
      "cell_type": "code",
      "metadata": {
        "id": "U8DwL36T07cu"
      },
      "source": [
        "import pandas as pd\n",
        "import matplotlib.pyplot as plt\n",
        "from sklearn.linear_model import LinearRegression\n",
        "from sklearn.model_selection import train_test_split"
      ],
      "execution_count": 1,
      "outputs": []
    },
    {
      "cell_type": "markdown",
      "metadata": {
        "id": "tM-N31EI07eV"
      },
      "source": [
        "### Load datasets"
      ]
    },
    {
      "cell_type": "code",
      "metadata": {
        "id": "GvfFYpZT07ek"
      },
      "source": [
        "#Nama dataframe kita adalah df yang berisi data dari data.csv\n",
        "#Hanya menggunakan kolom horsepower dan price\n",
        "df = pd.read_csv('data.csv', usecols=['horsepower', 'price'])"
      ],
      "execution_count": null,
      "outputs": []
    },
    {
      "cell_type": "markdown",
      "metadata": {
        "id": "twlge1kv07eu"
      },
      "source": [
        "### Sneak peak data"
      ]
    },
    {
      "cell_type": "code",
      "metadata": {
        "id": "qySbpRwd07ew"
      },
      "source": [
        "#Melihat 5 baris teratas dari data\n",
        "#Independent variabel(x) adalah horsepower\n",
        "#Dependent variabel(y) adalah price\n",
        "df.head()"
      ],
      "execution_count": null,
      "outputs": []
    },
    {
      "cell_type": "code",
      "metadata": {
        "id": "FnX6WOCs07fT"
      },
      "source": [
        "#Mengetahui jumlah kolom dan baris dari data\n",
        "#Data kita mempunya 2 kolom dengan 200 baris\n",
        "df.shape"
      ],
      "execution_count": null,
      "outputs": []
    },
    {
      "cell_type": "code",
      "metadata": {
        "id": "33rGRqLp07fy"
      },
      "source": [
        "#Melihat informasi data kita mulai dari jumlah data, tipe data, memory yang digunakan dll.\n",
        "df.info()"
      ],
      "execution_count": null,
      "outputs": []
    },
    {
      "cell_type": "code",
      "metadata": {
        "id": "JqOyZ9vc07gJ"
      },
      "source": [
        "#Melihat statistical description dari data mulai dari mean, kuartil, standard deviation dll\n",
        "df.describe()"
      ],
      "execution_count": null,
      "outputs": []
    },
    {
      "cell_type": "markdown",
      "metadata": {
        "id": "TLjXCh9N07gO"
      },
      "source": [
        "### Handling Missing Values"
      ]
    },
    {
      "cell_type": "code",
      "metadata": {
        "id": "9zAowW8r07gP"
      },
      "source": [
        "#Mencari dan menangani missing values\n",
        "#Ternyata data kita tidak ada missing values\n",
        "df.isnull().sum()"
      ],
      "execution_count": null,
      "outputs": []
    },
    {
      "cell_type": "markdown",
      "metadata": {
        "id": "SSvYVkoa07gj"
      },
      "source": [
        "### Exploratory Data Analysis (EDA)"
      ]
    },
    {
      "cell_type": "code",
      "metadata": {
        "id": "OPiDhCb507gk"
      },
      "source": [
        "#Univariate analysis horsepower\n",
        "#Melihat distribusi dari horsepower\n",
        "f = plt.figure(figsize=(12,4))\n",
        "\n",
        "f.add_subplot(1,2,1)\n",
        "df['horsepower'].plot(kind='kde')\n",
        "\n",
        "f.add_subplot(1,2,2)\n",
        "plt.boxplot(df['horsepower'])\n",
        "plt.show()"
      ],
      "execution_count": null,
      "outputs": []
    },
    {
      "cell_type": "markdown",
      "metadata": {
        "id": "xLhb3RCj07gz"
      },
      "source": [
        "- Dapat dilihat bahwa density dari horsepower paling tinggi di nilai 100.\n",
        "- Distribusinya hampir mirip dengan distribusi normal namun persebaran data kurang merata (memiliki standard deviasi yang tinggi)."
      ]
    },
    {
      "cell_type": "code",
      "metadata": {
        "id": "uRd9MWFC07g2"
      },
      "source": [
        "#Univariate analysis price\n",
        "#Melihat distribusi dari price\n",
        "f = plt.figure(figsize=(12,4))\n",
        "\n",
        "f.add_subplot(1,2,1)\n",
        "df['price'].plot(kind='kde', c='g')\n",
        "\n",
        "f.add_subplot(1,2,2)\n",
        "plt.boxplot(df['price'])\n",
        "plt.show()"
      ],
      "execution_count": null,
      "outputs": []
    },
    {
      "cell_type": "markdown",
      "metadata": {
        "id": "B2rp6UAT07hU"
      },
      "source": [
        "- Density dari price paling tinggi di nilai 10000.\n",
        "- Distribusinya hampir mirip dengan distribusi normal namun persebaran data kurang merata (memiliki standard deviasi yang tinggi)."
      ]
    },
    {
      "cell_type": "code",
      "metadata": {
        "id": "eXHctJ7x07hV"
      },
      "source": [
        "#Bivariate analysis horsepower dan price\n",
        "#Menggunakan scatter plot\n",
        "plt.scatter(df['horsepower'], df['price'])\n",
        "plt.xlabel('Horsepower')\n",
        "plt.ylabel('Price')\n",
        "plt.title('Scatter Plot Horsepower vs Price')\n",
        "plt.show()"
      ],
      "execution_count": null,
      "outputs": []
    },
    {
      "cell_type": "markdown",
      "metadata": {
        "id": "Vws_102d07hf"
      },
      "source": [
        "- Dari scatter plot dapat dilihat bahwa data memiliki korelasi positif yang cukup signifikan.\n",
        "- Hal ini berarti dengan bertambahnya nilai dari horsepower maka nilai price pun akan bertambah"
      ]
    },
    {
      "cell_type": "code",
      "metadata": {
        "scrolled": true,
        "id": "6TvOMHu407hg"
      },
      "source": [
        "#Mengetahui nilai korelasi dari horsepower dan price\n",
        "#Nilai korelasinya adalah 0.81 termasuk kategori sangat tinggi\n",
        "df.corr()"
      ],
      "execution_count": null,
      "outputs": []
    },
    {
      "cell_type": "markdown",
      "metadata": {
        "id": "C_Na0Ail07hm"
      },
      "source": [
        "- Setelah kita tahu tentang karakteristik data kita, bisa dilanjutkan ke tahap modelling"
      ]
    },
    {
      "cell_type": "markdown",
      "metadata": {
        "id": "4B7TEfEk07hm"
      },
      "source": [
        "### Modelling"
      ]
    },
    {
      "cell_type": "code",
      "metadata": {
        "scrolled": true,
        "id": "Jai9lOE207hn"
      },
      "source": [
        "#Recall data kita\n",
        "df.head()"
      ],
      "execution_count": null,
      "outputs": []
    },
    {
      "cell_type": "code",
      "metadata": {
        "id": "-otDfWaL07hs"
      },
      "source": [
        "#Pertama, buat variabel x dan y\n",
        "x = df['horsepower'].values.reshape(-1,1)\n",
        "y = df['price'].values.reshape(-1,1)"
      ],
      "execution_count": null,
      "outputs": []
    },
    {
      "cell_type": "code",
      "metadata": {
        "id": "nEJdkpRy07h9"
      },
      "source": [
        "#Kedua, kita split data kita menjadi training and testing dengan porsi 80:20\n",
        "x_train, x_test, y_train, y_test = train_test_split(x, y, test_size=0.2)"
      ],
      "execution_count": null,
      "outputs": []
    },
    {
      "cell_type": "code",
      "metadata": {
        "id": "50kecAw907iV"
      },
      "source": [
        "#Ketiga, kita bikin object linear regresi\n",
        "lin_reg = LinearRegression()"
      ],
      "execution_count": null,
      "outputs": []
    },
    {
      "cell_type": "code",
      "metadata": {
        "id": "GDqvcE7V07ip"
      },
      "source": [
        "#Keempat, train the model menggunakan training data yang sudah displit\n",
        "lin_reg.fit(x_train, y_train)"
      ],
      "execution_count": null,
      "outputs": []
    },
    {
      "cell_type": "code",
      "metadata": {
        "id": "Fjc7JZ3-07i8"
      },
      "source": [
        "#Kelima, cari tau nilai slope/koefisien (m) dan intercept (b)\n",
        "print(lin_reg.coef_)\n",
        "print(lin_reg.intercept_)"
      ],
      "execution_count": null,
      "outputs": []
    },
    {
      "cell_type": "markdown",
      "metadata": {
        "id": "CK6LiQ2q07jN"
      },
      "source": [
        "- dari nilai m dan b diatas, kalau dimasukan ke dalam rumus menjadi:\n",
        "Y = 164.73x - 3903.39"
      ]
    },
    {
      "cell_type": "code",
      "metadata": {
        "id": "UTsvgTM107jP"
      },
      "source": [
        "#Keenam, kita cari tahu accuracy score dari model kita menggunakan testing data yang sudah displit\n",
        "lin_reg.score(x_test, y_test)"
      ],
      "execution_count": null,
      "outputs": []
    },
    {
      "cell_type": "markdown",
      "metadata": {
        "id": "3fLoVGxV07jo"
      },
      "source": [
        "- Model kita mendapatkan accuracy score sebesar 78.68%"
      ]
    },
    {
      "cell_type": "code",
      "metadata": {
        "id": "WYUR14ma07jp"
      },
      "source": [
        "#Ketujuh, visualisasi aktual vs prediksi menggunakan data testing\n",
        "#Garis merah merupakan garis regresi dari persamaan yang kita dapat tadi\n",
        "y_prediksi = lin_reg.predict(x_test)\n",
        "plt.scatter(x_test, y_test)\n",
        "plt.plot(x_test, y_prediksi, c='r')\n",
        "plt.xlabel('Horsepower')\n",
        "plt.ylabel('Price')\n",
        "plt.title('Plot Horsepower vs Price')"
      ],
      "execution_count": null,
      "outputs": []
    },
    {
      "cell_type": "markdown",
      "metadata": {
        "id": "ZLYdoehL07j9"
      },
      "source": [
        "### Prediction\n",
        "- Yuk kita prediksi harga mobil ketika memiliki horsepower 100, 150, dan 200"
      ]
    },
    {
      "cell_type": "code",
      "metadata": {
        "id": "iBP4MPgV07j-"
      },
      "source": [
        "#Prediksi harga mobil dengan horsepower 100\n",
        "lin_reg.predict([[100]])"
      ],
      "execution_count": null,
      "outputs": []
    },
    {
      "cell_type": "code",
      "metadata": {
        "id": "6Yc0odlJ07kX"
      },
      "source": [
        "#Prediksi harga mobil dengan horsepower 150\n",
        "lin_reg.predict([[150]])"
      ],
      "execution_count": null,
      "outputs": []
    },
    {
      "cell_type": "code",
      "metadata": {
        "id": "rRValrsi07kq"
      },
      "source": [
        "#Prediksi harga mobil dengan horsepower 200\n",
        "lin_reg.predict([[200]])"
      ],
      "execution_count": null,
      "outputs": []
    },
    {
      "cell_type": "markdown",
      "metadata": {
        "id": "L8sRMi6G07kt"
      },
      "source": [
        "- dengan melihat prediksi harga diatas, didapatkan bahwa hipotesis awal kita memang benar yaitu mobil dengan Horsepower 200 memiliki harga yang lebih mahal daripada yang lain!"
      ]
    }
  ]
}